{
 "cells": [
  {
   "cell_type": "markdown",
   "source": [
    "### Python Data Models"
   ],
   "metadata": {
    "collapsed": false
   },
   "id": "a0ac3d89b374bfc9"
  },
  {
   "cell_type": "markdown",
   "source": [
    "#### 1. 파이썬 카드 한 벌\n",
    "\n",
    "특별 method `__getitem__`과 `__len__`을 이용해 파이썬에서 강력한 기능을 구현할 수 있다는 것을 보여준다"
   ],
   "metadata": {
    "collapsed": false
   },
   "id": "f2e63cb28cd7745c"
  },
  {
   "cell_type": "code",
   "execution_count": 1,
   "id": "initial_id",
   "metadata": {
    "collapsed": true,
    "ExecuteTime": {
     "end_time": "2024-01-17T16:36:01.293079Z",
     "start_time": "2024-01-17T16:36:01.285216Z"
    }
   },
   "outputs": [],
   "source": [
    "import collections\n",
    "\n",
    "Card = collections.namedtuple('Card', ['rank', 'suit'])\n",
    "\n",
    "class FrenchDeck:\n",
    "    ranks = [str(n) for n in range(2, 11)] + list('JQKA') # 2~10, JQKA\n",
    "    suits = 'spades diamonds clubs hearts'.split() # spades, diamonds, clubs, hearts\n",
    "\n",
    "    def __init__(self):\n",
    "        self._cards = [Card(rank, suit) for suit in self.suits\n",
    "                                        for rank in self.ranks]\n",
    "    \n",
    "    def __len__(self):\n",
    "        return len(self._cards)\n",
    "    \n",
    "    def __getitem__(self, position):\n",
    "        return self._cards[position]"
   ]
  },
  {
   "cell_type": "markdown",
   "source": [
    "python 2.6부터 `namedtuple`이 추가되었고, `namedtuple`은 불변 데이터 객체를 생성하는데 사용된다. `namedtuple`은 튜플의 서브클래스이므로 튜플이 가지고 있는 모든 메서드를 지원한다. 또한 클래스의 속성과 메서드를 추가할 수 있다."
   ],
   "metadata": {
    "collapsed": false
   },
   "id": "b0cd3b634220d4a9"
  },
  {
   "cell_type": "code",
   "outputs": [
    {
     "data": {
      "text/plain": "Card(rank='7', suit='diamonds')"
     },
     "execution_count": 2,
     "metadata": {},
     "output_type": "execute_result"
    }
   ],
   "source": [
    "beer_card = Card('7', 'diamonds')\n",
    "beer_card"
   ],
   "metadata": {
    "collapsed": false,
    "ExecuteTime": {
     "end_time": "2024-01-17T16:36:38.930214Z",
     "start_time": "2024-01-17T16:36:38.916214Z"
    }
   },
   "id": "540117b912dcceeb",
   "execution_count": 2
  },
  {
   "cell_type": "markdown",
   "source": [
    "그러나, 이 코드의 핵심은 `FrenchDeck` 클래스이다. `__len__`과 `__getitem__` 특별 메서드를 이용해 파이썬의 시퀀스 프로토콜을 구현했다. 이 두 메서드를 구현하면 `FrenchDeck`은 `len()`과 `[]` 연산자를 사용할 수 있게 된다."
   ],
   "metadata": {
    "collapsed": false
   },
   "id": "ef12b011c3d19b48"
  },
  {
   "cell_type": "code",
   "outputs": [
    {
     "data": {
      "text/plain": "52"
     },
     "execution_count": 3,
     "metadata": {},
     "output_type": "execute_result"
    }
   ],
   "source": [
    "deck = FrenchDeck()\n",
    "len(deck)"
   ],
   "metadata": {
    "collapsed": false,
    "ExecuteTime": {
     "end_time": "2024-01-17T16:37:45.372110Z",
     "start_time": "2024-01-17T16:37:45.366662Z"
    }
   },
   "id": "cf30f1852caf8f24",
   "execution_count": 3
  },
  {
   "cell_type": "markdown",
   "source": [
    "카드 한 벌에서 특정 카드를 고르는 것은 간단하다. 예를 들어서, `deck[0]`은 첫 번째 카드, `deck[-1]`은 마지막 카드를 나타낸다."
   ],
   "metadata": {
    "collapsed": false
   },
   "id": "e5d04c108712f2ca"
  },
  {
   "cell_type": "code",
   "outputs": [
    {
     "name": "stdout",
     "output_type": "stream",
     "text": [
      "Card(rank='2', suit='spades') Card(rank='A', suit='hearts')\n"
     ]
    }
   ],
   "source": [
    "print(deck[0], deck[-1])"
   ],
   "metadata": {
    "collapsed": false,
    "ExecuteTime": {
     "end_time": "2024-01-17T16:38:22.728691Z",
     "start_time": "2024-01-17T16:38:22.724377Z"
    }
   },
   "id": "f7a4bfe348cad14a",
   "execution_count": 4
  },
  {
   "cell_type": "markdown",
   "source": [
    "또한, 무작위로 카드를 고르는 것도 가능하다. `random` 모듈의 `choice` 함수를 이용하면 된다"
   ],
   "metadata": {
    "collapsed": false
   },
   "id": "c001dffae69cb0ad"
  },
  {
   "cell_type": "code",
   "outputs": [
    {
     "data": {
      "text/plain": "Card(rank='J', suit='hearts')"
     },
     "execution_count": 5,
     "metadata": {},
     "output_type": "execute_result"
    }
   ],
   "source": [
    "from random import choice\n",
    "choice(deck)"
   ],
   "metadata": {
    "collapsed": false,
    "ExecuteTime": {
     "end_time": "2024-01-17T16:39:04.602024Z",
     "start_time": "2024-01-17T16:39:04.594815Z"
    }
   },
   "id": "e199a7a79af5acc3",
   "execution_count": 5
  },
  {
   "cell_type": "code",
   "outputs": [
    {
     "data": {
      "text/plain": "Card(rank='2', suit='hearts')"
     },
     "execution_count": 6,
     "metadata": {},
     "output_type": "execute_result"
    }
   ],
   "source": [
    "choice(deck)"
   ],
   "metadata": {
    "collapsed": false,
    "ExecuteTime": {
     "end_time": "2024-01-17T16:39:06.412276Z",
     "start_time": "2024-01-17T16:39:06.407678Z"
    }
   },
   "id": "3d0af9d70a8bac65",
   "execution_count": 6
  },
  {
   "cell_type": "code",
   "outputs": [
    {
     "data": {
      "text/plain": "Card(rank='10', suit='hearts')"
     },
     "execution_count": 7,
     "metadata": {},
     "output_type": "execute_result"
    }
   ],
   "source": [
    "choice(deck)"
   ],
   "metadata": {
    "collapsed": false,
    "ExecuteTime": {
     "end_time": "2024-01-17T16:39:07.392666Z",
     "start_time": "2024-01-17T16:39:07.387670Z"
    }
   },
   "id": "f8006a8361d19607",
   "execution_count": 7
  },
  {
   "cell_type": "markdown",
   "source": [
    "여기서 우리는 특별 메서드를 통해 파이썬 데이터 모델을 사용할 때의 두 가지 장점을 알게 되었다\n",
    "\n",
    "- 파이썬 표준 라이브러리를 사용하면서 파이썬스러운 인터페이스를 사용할 수 있다\n",
    "- 표준 연산을 구현함으로써 사용자가 자신만의 데이터 구조를 만들 수 있다\n",
    "\n",
    "그러나, 이것이 전부는 아니다\n",
    "\n",
    "`__getitem__()` method는 self._cards에게 [] 연산자를 위임한다. 따라서, `deck` 객체는 슬라이싱도 자동으로 지원한다"
   ],
   "metadata": {
    "collapsed": false
   },
   "id": "f791af881cca474f"
  },
  {
   "cell_type": "code",
   "outputs": [
    {
     "data": {
      "text/plain": "[Card(rank='2', suit='spades'),\n Card(rank='3', suit='spades'),\n Card(rank='4', suit='spades')]"
     },
     "execution_count": 8,
     "metadata": {},
     "output_type": "execute_result"
    }
   ],
   "source": [
    "deck[:3]"
   ],
   "metadata": {
    "collapsed": false,
    "ExecuteTime": {
     "end_time": "2024-01-17T16:41:24.227454Z",
     "start_time": "2024-01-17T16:41:24.222720Z"
    }
   },
   "id": "3282992d6c4aa75a",
   "execution_count": 8
  },
  {
   "cell_type": "code",
   "outputs": [
    {
     "data": {
      "text/plain": "[Card(rank='A', suit='spades'),\n Card(rank='A', suit='diamonds'),\n Card(rank='A', suit='clubs'),\n Card(rank='A', suit='hearts')]"
     },
     "execution_count": 9,
     "metadata": {},
     "output_type": "execute_result"
    }
   ],
   "source": [
    "deck[12::13]"
   ],
   "metadata": {
    "collapsed": false,
    "ExecuteTime": {
     "end_time": "2024-01-17T16:41:29.945039Z",
     "start_time": "2024-01-17T16:41:29.939646Z"
    }
   },
   "id": "65bca30aafb965f7",
   "execution_count": 9
  },
  {
   "cell_type": "markdown",
   "source": [
    "또한, `__getitem__()` method를 구현했기 때문에 `deck` 객체는 반복할 수 있다"
   ],
   "metadata": {
    "collapsed": false
   },
   "id": "669f25171da2e70a"
  },
  {
   "cell_type": "code",
   "outputs": [
    {
     "name": "stdout",
     "output_type": "stream",
     "text": [
      "Card(rank='2', suit='spades')\n",
      "Card(rank='3', suit='spades')\n",
      "Card(rank='4', suit='spades')\n",
      "Card(rank='5', suit='spades')\n",
      "Card(rank='6', suit='spades')\n",
      "Card(rank='7', suit='spades')\n",
      "Card(rank='8', suit='spades')\n",
      "Card(rank='9', suit='spades')\n",
      "Card(rank='10', suit='spades')\n",
      "Card(rank='J', suit='spades')\n",
      "Card(rank='Q', suit='spades')\n",
      "Card(rank='K', suit='spades')\n",
      "Card(rank='A', suit='spades')\n",
      "Card(rank='2', suit='diamonds')\n",
      "Card(rank='3', suit='diamonds')\n",
      "Card(rank='4', suit='diamonds')\n",
      "Card(rank='5', suit='diamonds')\n",
      "Card(rank='6', suit='diamonds')\n",
      "Card(rank='7', suit='diamonds')\n",
      "Card(rank='8', suit='diamonds')\n",
      "Card(rank='9', suit='diamonds')\n",
      "Card(rank='10', suit='diamonds')\n",
      "Card(rank='J', suit='diamonds')\n",
      "Card(rank='Q', suit='diamonds')\n",
      "Card(rank='K', suit='diamonds')\n",
      "Card(rank='A', suit='diamonds')\n",
      "Card(rank='2', suit='clubs')\n",
      "Card(rank='3', suit='clubs')\n",
      "Card(rank='4', suit='clubs')\n",
      "Card(rank='5', suit='clubs')\n",
      "Card(rank='6', suit='clubs')\n",
      "Card(rank='7', suit='clubs')\n",
      "Card(rank='8', suit='clubs')\n",
      "Card(rank='9', suit='clubs')\n",
      "Card(rank='10', suit='clubs')\n",
      "Card(rank='J', suit='clubs')\n",
      "Card(rank='Q', suit='clubs')\n",
      "Card(rank='K', suit='clubs')\n",
      "Card(rank='A', suit='clubs')\n",
      "Card(rank='2', suit='hearts')\n",
      "Card(rank='3', suit='hearts')\n",
      "Card(rank='4', suit='hearts')\n",
      "Card(rank='5', suit='hearts')\n",
      "Card(rank='6', suit='hearts')\n",
      "Card(rank='7', suit='hearts')\n",
      "Card(rank='8', suit='hearts')\n",
      "Card(rank='9', suit='hearts')\n",
      "Card(rank='10', suit='hearts')\n",
      "Card(rank='J', suit='hearts')\n",
      "Card(rank='Q', suit='hearts')\n",
      "Card(rank='K', suit='hearts')\n",
      "Card(rank='A', suit='hearts')\n"
     ]
    }
   ],
   "source": [
    "for card in deck: # doctest: +ELLIPSIS\n",
    "    print(card)"
   ],
   "metadata": {
    "collapsed": false,
    "ExecuteTime": {
     "end_time": "2024-01-17T16:41:36.097450Z",
     "start_time": "2024-01-17T16:41:36.090993Z"
    }
   },
   "id": "34c8859e9839fef3",
   "execution_count": 10
  },
  {
   "cell_type": "markdown",
   "source": [
    "동일한 이유로 `deck` 객체를 뒤에서부터 반복할 수 있다"
   ],
   "metadata": {
    "collapsed": false
   },
   "id": "1b440c28b513793d"
  },
  {
   "cell_type": "code",
   "outputs": [
    {
     "name": "stdout",
     "output_type": "stream",
     "text": [
      "Card(rank='A', suit='hearts')\n",
      "Card(rank='K', suit='hearts')\n",
      "Card(rank='Q', suit='hearts')\n",
      "Card(rank='J', suit='hearts')\n",
      "Card(rank='10', suit='hearts')\n",
      "Card(rank='9', suit='hearts')\n",
      "Card(rank='8', suit='hearts')\n",
      "Card(rank='7', suit='hearts')\n",
      "Card(rank='6', suit='hearts')\n",
      "Card(rank='5', suit='hearts')\n",
      "Card(rank='4', suit='hearts')\n",
      "Card(rank='3', suit='hearts')\n",
      "Card(rank='2', suit='hearts')\n",
      "Card(rank='A', suit='clubs')\n",
      "Card(rank='K', suit='clubs')\n",
      "Card(rank='Q', suit='clubs')\n",
      "Card(rank='J', suit='clubs')\n",
      "Card(rank='10', suit='clubs')\n",
      "Card(rank='9', suit='clubs')\n",
      "Card(rank='8', suit='clubs')\n",
      "Card(rank='7', suit='clubs')\n",
      "Card(rank='6', suit='clubs')\n",
      "Card(rank='5', suit='clubs')\n",
      "Card(rank='4', suit='clubs')\n",
      "Card(rank='3', suit='clubs')\n",
      "Card(rank='2', suit='clubs')\n",
      "Card(rank='A', suit='diamonds')\n",
      "Card(rank='K', suit='diamonds')\n",
      "Card(rank='Q', suit='diamonds')\n",
      "Card(rank='J', suit='diamonds')\n",
      "Card(rank='10', suit='diamonds')\n",
      "Card(rank='9', suit='diamonds')\n",
      "Card(rank='8', suit='diamonds')\n",
      "Card(rank='7', suit='diamonds')\n",
      "Card(rank='6', suit='diamonds')\n",
      "Card(rank='5', suit='diamonds')\n",
      "Card(rank='4', suit='diamonds')\n",
      "Card(rank='3', suit='diamonds')\n",
      "Card(rank='2', suit='diamonds')\n",
      "Card(rank='A', suit='spades')\n",
      "Card(rank='K', suit='spades')\n",
      "Card(rank='Q', suit='spades')\n",
      "Card(rank='J', suit='spades')\n",
      "Card(rank='10', suit='spades')\n",
      "Card(rank='9', suit='spades')\n",
      "Card(rank='8', suit='spades')\n",
      "Card(rank='7', suit='spades')\n",
      "Card(rank='6', suit='spades')\n",
      "Card(rank='5', suit='spades')\n",
      "Card(rank='4', suit='spades')\n",
      "Card(rank='3', suit='spades')\n",
      "Card(rank='2', suit='spades')\n"
     ]
    }
   ],
   "source": [
    "for card in reversed(deck): # doctest: +ELLIPSIS\n",
    "    print(card)"
   ],
   "metadata": {
    "collapsed": false,
    "ExecuteTime": {
     "end_time": "2024-01-17T16:41:58.642930Z",
     "start_time": "2024-01-17T16:41:58.635218Z"
    }
   },
   "id": "c39e35121534cd83",
   "execution_count": 11
  },
  {
   "cell_type": "markdown",
   "source": [
    "또한, `in` 연산자를 사용하면 특정 카드가 카드 한 벌에 있는지 확인할 수 있다. 이 때, 반복은 암묵적으로 수행된다"
   ],
   "metadata": {
    "collapsed": false
   },
   "id": "4350a774599800d"
  },
  {
   "cell_type": "code",
   "outputs": [
    {
     "data": {
      "text/plain": "True"
     },
     "execution_count": 12,
     "metadata": {},
     "output_type": "execute_result"
    }
   ],
   "source": [
    "Card('Q', 'hearts') in deck"
   ],
   "metadata": {
    "collapsed": false,
    "ExecuteTime": {
     "end_time": "2024-01-17T16:43:51.994704Z",
     "start_time": "2024-01-17T16:43:51.988128Z"
    }
   },
   "id": "5150608ac13d49b",
   "execution_count": 12
  },
  {
   "cell_type": "code",
   "outputs": [
    {
     "data": {
      "text/plain": "False"
     },
     "execution_count": 13,
     "metadata": {},
     "output_type": "execute_result"
    }
   ],
   "source": [
    "Card('7', 'beasts') in deck"
   ],
   "metadata": {
    "collapsed": false,
    "ExecuteTime": {
     "end_time": "2024-01-17T16:43:55.812857Z",
     "start_time": "2024-01-17T16:43:55.804196Z"
    }
   },
   "id": "832a092b299b0222",
   "execution_count": 13
  },
  {
   "cell_type": "markdown",
   "source": [
    "정렬의 경우 다음과 같이 지정할 수 있다"
   ],
   "metadata": {
    "collapsed": false
   },
   "id": "ce86a0e310b2396"
  },
  {
   "cell_type": "code",
   "outputs": [],
   "source": [
    "suit_values = dict(spades=3, hearts=2, diamonds=1, clubs=0)\n",
    "\n",
    "def spades_high(card):\n",
    "    rank_value = FrenchDeck.ranks.index(card.rank) # 2~10, JQKA\n",
    "    return rank_value * len(suit_values) + suit_values[card.suit]"
   ],
   "metadata": {
    "collapsed": false,
    "ExecuteTime": {
     "end_time": "2024-01-17T16:45:08.849196Z",
     "start_time": "2024-01-17T16:45:08.840745Z"
    }
   },
   "id": "af4148aa100d9771",
   "execution_count": 14
  },
  {
   "cell_type": "markdown",
   "source": [
    "이제 카드 한 벌을 다음과 같이 오름차순으로 나열할 수 있다. `sorted` 함수는 `key` 인수로 지정된 함수를 사용해서 각 항목을 정렬한다"
   ],
   "metadata": {
    "collapsed": false
   },
   "id": "7e3a38800c1f00d7"
  },
  {
   "cell_type": "code",
   "outputs": [
    {
     "name": "stdout",
     "output_type": "stream",
     "text": [
      "Card(rank='2', suit='clubs')\n",
      "Card(rank='2', suit='diamonds')\n",
      "Card(rank='2', suit='hearts')\n",
      "Card(rank='2', suit='spades')\n",
      "Card(rank='3', suit='clubs')\n",
      "Card(rank='3', suit='diamonds')\n",
      "Card(rank='3', suit='hearts')\n",
      "Card(rank='3', suit='spades')\n",
      "Card(rank='4', suit='clubs')\n",
      "Card(rank='4', suit='diamonds')\n",
      "Card(rank='4', suit='hearts')\n",
      "Card(rank='4', suit='spades')\n",
      "Card(rank='5', suit='clubs')\n",
      "Card(rank='5', suit='diamonds')\n",
      "Card(rank='5', suit='hearts')\n",
      "Card(rank='5', suit='spades')\n",
      "Card(rank='6', suit='clubs')\n",
      "Card(rank='6', suit='diamonds')\n",
      "Card(rank='6', suit='hearts')\n",
      "Card(rank='6', suit='spades')\n",
      "Card(rank='7', suit='clubs')\n",
      "Card(rank='7', suit='diamonds')\n",
      "Card(rank='7', suit='hearts')\n",
      "Card(rank='7', suit='spades')\n",
      "Card(rank='8', suit='clubs')\n",
      "Card(rank='8', suit='diamonds')\n",
      "Card(rank='8', suit='hearts')\n",
      "Card(rank='8', suit='spades')\n",
      "Card(rank='9', suit='clubs')\n",
      "Card(rank='9', suit='diamonds')\n",
      "Card(rank='9', suit='hearts')\n",
      "Card(rank='9', suit='spades')\n",
      "Card(rank='10', suit='clubs')\n",
      "Card(rank='10', suit='diamonds')\n",
      "Card(rank='10', suit='hearts')\n",
      "Card(rank='10', suit='spades')\n",
      "Card(rank='J', suit='clubs')\n",
      "Card(rank='J', suit='diamonds')\n",
      "Card(rank='J', suit='hearts')\n",
      "Card(rank='J', suit='spades')\n",
      "Card(rank='Q', suit='clubs')\n",
      "Card(rank='Q', suit='diamonds')\n",
      "Card(rank='Q', suit='hearts')\n",
      "Card(rank='Q', suit='spades')\n",
      "Card(rank='K', suit='clubs')\n",
      "Card(rank='K', suit='diamonds')\n",
      "Card(rank='K', suit='hearts')\n",
      "Card(rank='K', suit='spades')\n",
      "Card(rank='A', suit='clubs')\n",
      "Card(rank='A', suit='diamonds')\n",
      "Card(rank='A', suit='hearts')\n",
      "Card(rank='A', suit='spades')\n"
     ]
    }
   ],
   "source": [
    "for card in sorted(deck, key=spades_high): # doctest: +ELLIPSIS\n",
    "    print(card)"
   ],
   "metadata": {
    "collapsed": false,
    "ExecuteTime": {
     "end_time": "2024-01-17T16:45:39.341585Z",
     "start_time": "2024-01-17T16:45:39.331543Z"
    }
   },
   "id": "4926a9b4259464b8",
   "execution_count": 15
  },
  {
   "cell_type": "markdown",
   "source": [
    "#### 2. 특별 메서드는 어떻게 사용되는가\n",
    "\n",
    "**2.1 수치형 흉내 내기**\n",
    "\n",
    "+와 * 연산자를 사용해서 벡터를 더하거나 스칼라 곱을 해주는 연산자에 사용자 정의 객체가 응답할 수 있게 해주는 몇몇 특별 메서드가 존재한다"
   ],
   "metadata": {
    "collapsed": false
   },
   "id": "78aa70ef317d2281"
  },
  {
   "cell_type": "code",
   "outputs": [],
   "source": [
    "from math import hypot\n",
    "\n",
    "class Vector:\n",
    "    def __init__(self, x=0, y=0):\n",
    "        self.x = x\n",
    "        self.y = y\n",
    "    \n",
    "    def __repr__(self): # repr()은 객체를 문자열로 표현하는 공식적인 문자열을 반환한다\n",
    "        return 'Vector(%r, %r)' % (self.x, self.y)\n",
    "    \n",
    "    def __abs__(self): # abs()는 객체의 크기를 반환한다\n",
    "        return hypot(self.x, self.y)\n",
    "    \n",
    "    def __bool__(self): # bool()은 객체의 참과 거짓을 판단한다\n",
    "        return bool(abs(self))\n",
    "    \n",
    "    def __add__(self, other): # + 연산자를 사용할 수 있게 해준다\n",
    "        x = self.x + other.x\n",
    "        y = self.y + other.y\n",
    "        return Vector(x, y)\n",
    "    \n",
    "    def __mul__(self, scalar): # * 연산자를 사용할 수 있게 해준다\n",
    "        return Vector(self.x * scalar, self.y * scalar)"
   ],
   "metadata": {
    "collapsed": false,
    "ExecuteTime": {
     "end_time": "2024-01-17T16:48:48.583432Z",
     "start_time": "2024-01-17T16:48:48.575571Z"
    }
   },
   "id": "96d33a072876b6f6",
   "execution_count": 16
  },
  {
   "cell_type": "code",
   "outputs": [
    {
     "name": "stdout",
     "output_type": "stream",
     "text": [
      "Vector(4, 5)\n"
     ]
    }
   ],
   "source": [
    "v1 = Vector(2, 4)\n",
    "v2 = Vector(2, 1)\n",
    "print(v1 + v2)"
   ],
   "metadata": {
    "collapsed": false,
    "ExecuteTime": {
     "end_time": "2024-01-17T16:49:04.410306Z",
     "start_time": "2024-01-17T16:49:04.398053Z"
    }
   },
   "id": "2f824ef9c7faa0aa",
   "execution_count": 17
  },
  {
   "cell_type": "markdown",
   "source": [
    "연산자의 결과로는 Vector형이 나오게 된다. 즉, 마치 구조체인 것처럼 작동한다"
   ],
   "metadata": {
    "collapsed": false
   },
   "id": "15f9be415cdad986"
  },
  {
   "cell_type": "code",
   "outputs": [
    {
     "name": "stdout",
     "output_type": "stream",
     "text": [
      "5.0\n"
     ]
    }
   ],
   "source": [
    "v = Vector(3, 4)\n",
    "print(abs(v))"
   ],
   "metadata": {
    "collapsed": false,
    "ExecuteTime": {
     "end_time": "2024-01-17T16:49:09.945993Z",
     "start_time": "2024-01-17T16:49:09.940101Z"
    }
   },
   "id": "d9dab195e82c799c",
   "execution_count": 18
  },
  {
   "cell_type": "code",
   "outputs": [
    {
     "name": "stdout",
     "output_type": "stream",
     "text": [
      "Vector(9, 12)\n"
     ]
    }
   ],
   "source": [
    "print(v * 3)"
   ],
   "metadata": {
    "collapsed": false,
    "ExecuteTime": {
     "end_time": "2024-01-17T16:50:15.308127Z",
     "start_time": "2024-01-17T16:50:15.301677Z"
    }
   },
   "id": "ef9bce4ab8bfcb05",
   "execution_count": 19
  },
  {
   "cell_type": "code",
   "outputs": [
    {
     "name": "stdout",
     "output_type": "stream",
     "text": [
      "15.0\n"
     ]
    }
   ],
   "source": [
    "print(abs(v * 3))"
   ],
   "metadata": {
    "collapsed": false,
    "ExecuteTime": {
     "end_time": "2024-01-17T16:50:18.033830Z",
     "start_time": "2024-01-17T16:50:18.023479Z"
    }
   },
   "id": "e0358949e4e3db3d",
   "execution_count": 20
  },
  {
   "cell_type": "markdown",
   "source": [
    "#### 3. 특별 메서드 개요\n",
    "\n",
    "<표1. 특별 메서드>\n",
    "\n",
    "|연산자|메서드|설명|\n",
    "|:---:|:---:|:---:|\n",
    "|`+`|`__add__(self, other)`|덧셈을 구현한다|\n",
    "|`*`|`__mul__(self, other)`|곱셈을 구현한다|\n",
    "|`-`|`__sub__(self, other)`|뺄셈을 구현한다|\n",
    "|`/`|`__truediv__(self, other)`|나눗셈을 구현한다|\n",
    "|`//`|`__floordiv__(self, other)`|나눗셈의 몫을 구현한다|\n",
    "|`%`|`__mod__(self, other)`|나눗셈의 나머지를 구현한다|\n",
    "|`divmod()`|`__divmod__(self, other)`|`divmod()`를 구현한다|\n",
    "|`**`|`__pow__(self, other[, modulo])`|거듭제곱을 구현한다|\n",
    "|`<<`|`__lshift__(self, other)`|비트 왼쪽 시프트를 구현한다|\n",
    "|`>>`|`__rshift__(self, other)`|비트 오른쪽 시프트를 구현한다|\n",
    "|`&`|`__and__(self, other)`|비트 AND를 구현한다|\n",
    "|`\\|`|`__or__(self, other)`|비트 OR를 구현한다|\n",
    "|`^`|`__xor__(self, other)`|비트 XOR를 구현한다|\n",
    "|`==`|`__eq__(self, other)`|등호 비교를 구현한다|\n",
    "|`!=`|`__ne__(self, other)`|부등호 비교를 구현한다|\n",
    "|`<`|`__lt__(self, other)`|작다를 구현한다|\n",
    "|`<=`|`__le__(self, other)`|작거나 같다를 구현한다|\n",
    "|`>`|`__gt__(self, other)`|크다를 구현한다|\n",
    "|`>=`|`__ge__(self, other)`|크거나 같다를 구현한다|\n",
    "|`len()`|`__len__(self)`|길이를 구현한다|\n",
    "|`str()`|`__str__(self)`|문자열을 구현한다|\n",
    "|`repr()`|`__repr__(self)`|시스템에 의해 인식될 수 있는 문자열을 구현한다|\n",
    "|`bytes()`|`__bytes__(self)`|`bytes()`를 구현한다|\n",
    "|`format()`|`__format__(self, format_spec)`|`format()`을 구현한다|\n",
    "|`hash()`|`__hash__(self)`|해시를 구현한다|\n",
    "|`bool()`|`__bool__(self)`|참과 거짓을 구현한다|\n",
    "|`abs()`|`__abs__(self)`|절댓값을 구현한다|\n",
    "|`complex()`|`__complex__(self)`|복소수를 구현한다|\n",
    "|`int()`|`__int__(self)`|정수형을 구현한다|\n",
    "|`float()`|`__float__(self)`|실수형을 구현한다|\n",
    "|`round()`|`__round__(self)`|반올림을 구현한다|\n",
    "|`index()`|`__index__(self)`|인덱스를 구현한다|\n",
    "|`enter()`|`__enter__(self)`|`with`문을 구현한다|\n",
    "|`exit()`|`__exit__(self)`|`with`문을 구현한다|\n",
    "|`next()`|`__next__(self)`|반복자를 구현한다|\n",
    "|`iter()`|`__iter__(self)`|반복자를 구현한다|\n",
    "|`reversed()`|`__reversed__(self)`|역순 반복자를 구현한다|\n",
    "|`copy()`|`__copy__(self)`|얕은 복사를 구현한다|\n",
    "|`deepcopy()`|`__deepcopy__(self, memodict={})`|깊은 복사를 구현한다|\n",
    "|`getnewargs()`|`__getnewargs__(self)`|`pickle`을 구현한다|\n",
    "|`reduce()`|`__reduce__(self)`|`pickle`을 구현한다|\n",
    "|`reduce_ex()`|`__reduce_ex__(self)`|`pickle`을 구현한다|\n",
    "|`getstate()`|`__getstate__(self)`|`pickle`을 구현한다|\n",
    "|`setstate()`|`__setstate__(self)`|`pickle`을 구현한다|\n",
    "|`setformat()`|`__setformat__(self)`|`pickle`을 구현한다|\n",
    "|`sizeof()`|`__sizeof__(self)`|`sys.getsizeof()`를 구현한다|\n",
    "|`enter()`|`__enter__(self)`|`with`문을 구현한다|\n",
    "|`exit()`|`__exit__(self)`|`with`문을 구현한다|\n",
    "|`await()`|`__await__(self)`|`await`문을 구현한다|\n",
    "|`aiter()`|`__aiter__(self)`|비동기 반복자를 구현한다|\n",
    "|`anext()`|`__anext__(self)`|비동기 반복자를 구현한다|\n",
    "|`aenter()`|`__aenter__(self)`|비동기 `with`문을 구현한다|\n",
    "|`aexit()`|`__aexit__(self)`|비동기 `with`문을 구현한다|"
   ],
   "metadata": {
    "collapsed": false
   },
   "id": "3d7f17662131ad2e"
  }
 ],
 "metadata": {
  "kernelspec": {
   "display_name": "Python 3",
   "language": "python",
   "name": "python3"
  },
  "language_info": {
   "codemirror_mode": {
    "name": "ipython",
    "version": 2
   },
   "file_extension": ".py",
   "mimetype": "text/x-python",
   "name": "python",
   "nbconvert_exporter": "python",
   "pygments_lexer": "ipython2",
   "version": "2.7.6"
  }
 },
 "nbformat": 4,
 "nbformat_minor": 5
}
